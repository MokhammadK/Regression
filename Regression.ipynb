{
 "cells": [
  {
   "cell_type": "code",
   "execution_count": 10,
   "id": "bdd4b684",
   "metadata": {},
   "outputs": [],
   "source": [
    "import pandas as pd\n",
    "import numpy as np\n",
    "from sklearn.linear_model import LinearRegression\n",
    "from sklearn.metrics import mean_squared_error, r2_score"
   ]
  },
  {
   "cell_type": "code",
   "execution_count": 11,
   "id": "61bbf256",
   "metadata": {},
   "outputs": [],
   "source": [
    "scores = pd.read_csv(\"C:\\\\Users\\\\Bruger\\\\Downloads\\\\student_scores.csv\")"
   ]
  },
  {
   "cell_type": "code",
   "execution_count": 12,
   "id": "5548be86",
   "metadata": {},
   "outputs": [
    {
     "name": "stdout",
     "output_type": "stream",
     "text": [
      "    Hours  Scores\n",
      "0     2.5      21\n",
      "1     5.1      47\n",
      "2     3.2      27\n",
      "3     8.5      75\n",
      "4     3.5      30\n",
      "5     1.5      20\n",
      "6     9.2      88\n",
      "7     5.5      60\n",
      "8     8.3      81\n",
      "9     2.7      25\n",
      "10    7.7      85\n",
      "11    5.9      62\n",
      "12    4.5      41\n",
      "13    3.3      42\n",
      "14    1.1      17\n",
      "15    8.9      95\n",
      "16    2.5      30\n",
      "17    1.9      24\n",
      "18    6.1      67\n",
      "19    7.4      69\n",
      "20    2.7      30\n",
      "21    4.8      54\n",
      "22    3.8      35\n",
      "23    6.9      76\n",
      "24    7.8      86\n"
     ]
    }
   ],
   "source": [
    "print(scores)"
   ]
  },
  {
   "cell_type": "code",
   "execution_count": 16,
   "id": "ee57ac57",
   "metadata": {},
   "outputs": [],
   "source": [
    "X = scores[\"Hours\"].values.reshape(-1, 1)\n",
    "y = scores[\"Scores\"].values"
   ]
  },
  {
   "cell_type": "code",
   "execution_count": 20,
   "id": "753ec965",
   "metadata": {},
   "outputs": [
    {
     "name": "stdout",
     "output_type": "stream",
     "text": [
      "Intercept: 2.48367340537321\n",
      "Coefficient: 9.775803390787468\n",
      "Mean Squared Error (MSE): 28.882730509245466\n",
      "Coefficient of Determination (R^2): 0.9529481969048356\n"
     ]
    }
   ],
   "source": [
    "regression_model = LinearRegression()\n",
    "regression_model.fit(X, y)\n",
    "\n",
    "y_pred = regression_model.predict(X)\n",
    "mse = mean_squared_error(y, y_pred)\n",
    "r2 = r2_score(y, y_pred)\n",
    "\n",
    "print(\"Intercept:\", regression_model.intercept_)\n",
    "print(\"Coefficient:\", regression_model.coef_[0])\n",
    "\n",
    "print(\"Mean Squared Error (MSE):\", mse)\n",
    "print(\"Coefficient of Determination (R^2):\", r2)"
   ]
  },
  {
   "cell_type": "code",
   "execution_count": 21,
   "id": "634a3f4d",
   "metadata": {},
   "outputs": [],
   "source": [
    "# Рівняння регресії: у = 2.48367340537321 + 9.775803390787468 * Hours\n",
    "# R^2 становить 0.9529, тобто побудована модель пояснює 95,29% варіації у середньому балі студентів за допомогою протяжності навчання.\n",
    "# Mean Squared Error (MSE) становить 28.8827, в даному випадку воно досить низьке, що є хорошим показником.\n"
   ]
  },
  {
   "cell_type": "code",
   "execution_count": 22,
   "id": "b2bfa1c8",
   "metadata": {},
   "outputs": [],
   "source": [
    "petrol = pd.read_csv(\"C:\\\\Users\\\\Bruger\\\\Downloads\\\\petrol_consumption.csv\")"
   ]
  },
  {
   "cell_type": "code",
   "execution_count": 23,
   "id": "4b86f044",
   "metadata": {},
   "outputs": [
    {
     "name": "stdout",
     "output_type": "stream",
     "text": [
      "    Petrol_tax  Average_income  Paved_Highways  Population_Driver_licence(%)  \\\n",
      "0         9.00            3571            1976                         0.525   \n",
      "1         9.00            4092            1250                         0.572   \n",
      "2         9.00            3865            1586                         0.580   \n",
      "3         7.50            4870            2351                         0.529   \n",
      "4         8.00            4399             431                         0.544   \n",
      "5        10.00            5342            1333                         0.571   \n",
      "6         8.00            5319           11868                         0.451   \n",
      "7         8.00            5126            2138                         0.553   \n",
      "8         8.00            4447            8577                         0.529   \n",
      "9         7.00            4512            8507                         0.552   \n",
      "10        8.00            4391            5939                         0.530   \n",
      "11        7.50            5126           14186                         0.525   \n",
      "12        7.00            4817            6930                         0.574   \n",
      "13        7.00            4207            6580                         0.545   \n",
      "14        7.00            4332            8159                         0.608   \n",
      "15        7.00            4318           10340                         0.586   \n",
      "16        7.00            4206            8508                         0.572   \n",
      "17        7.00            3718            4725                         0.540   \n",
      "18        7.00            4716            5915                         0.724   \n",
      "19        8.50            4341            6010                         0.677   \n",
      "20        7.00            4593            7834                         0.663   \n",
      "21        8.00            4983             602                         0.602   \n",
      "22        9.00            4897            2449                         0.511   \n",
      "23        9.00            4258            4686                         0.517   \n",
      "24        8.50            4574            2619                         0.551   \n",
      "25        9.00            3721            4746                         0.544   \n",
      "26        8.00            3448            5399                         0.548   \n",
      "27        7.50            3846            9061                         0.579   \n",
      "28        8.00            4188            5975                         0.563   \n",
      "29        9.00            3601            4650                         0.493   \n",
      "30        7.00            3640            6905                         0.518   \n",
      "31        7.00            3333            6594                         0.513   \n",
      "32        8.00            3063            6524                         0.578   \n",
      "33        7.50            3357            4121                         0.547   \n",
      "34        8.00            3528            3495                         0.487   \n",
      "35        6.58            3802            7834                         0.629   \n",
      "36        5.00            4045           17782                         0.566   \n",
      "37        7.00            3897            6385                         0.586   \n",
      "38        8.50            3635            3274                         0.663   \n",
      "39        7.00            4345            3905                         0.672   \n",
      "40        7.00            4449            4639                         0.626   \n",
      "41        7.00            3656            3985                         0.563   \n",
      "42        7.00            4300            3635                         0.603   \n",
      "43        7.00            3745            2611                         0.508   \n",
      "44        6.00            5215            2302                         0.672   \n",
      "45        9.00            4476            3942                         0.571   \n",
      "46        7.00            4296            4083                         0.623   \n",
      "47        7.00            5002            9794                         0.593   \n",
      "\n",
      "    Petrol_Consumption  \n",
      "0                  541  \n",
      "1                  524  \n",
      "2                  561  \n",
      "3                  414  \n",
      "4                  410  \n",
      "5                  457  \n",
      "6                  344  \n",
      "7                  467  \n",
      "8                  464  \n",
      "9                  498  \n",
      "10                 580  \n",
      "11                 471  \n",
      "12                 525  \n",
      "13                 508  \n",
      "14                 566  \n",
      "15                 635  \n",
      "16                 603  \n",
      "17                 714  \n",
      "18                 865  \n",
      "19                 640  \n",
      "20                 649  \n",
      "21                 540  \n",
      "22                 464  \n",
      "23                 547  \n",
      "24                 460  \n",
      "25                 566  \n",
      "26                 577  \n",
      "27                 631  \n",
      "28                 574  \n",
      "29                 534  \n",
      "30                 571  \n",
      "31                 554  \n",
      "32                 577  \n",
      "33                 628  \n",
      "34                 487  \n",
      "35                 644  \n",
      "36                 640  \n",
      "37                 704  \n",
      "38                 648  \n",
      "39                 968  \n",
      "40                 587  \n",
      "41                 699  \n",
      "42                 632  \n",
      "43                 591  \n",
      "44                 782  \n",
      "45                 510  \n",
      "46                 610  \n",
      "47                 524  \n"
     ]
    }
   ],
   "source": [
    "print(petrol)"
   ]
  },
  {
   "cell_type": "code",
   "execution_count": 24,
   "id": "4a5c6506",
   "metadata": {},
   "outputs": [],
   "source": [
    "X = petrol.drop(\"Petrol_Consumption\", axis=1)  \n",
    "y = petrol[\"Petrol_Consumption\"]"
   ]
  },
  {
   "cell_type": "code",
   "execution_count": 28,
   "id": "f30d4caa",
   "metadata": {},
   "outputs": [
    {
     "name": "stdout",
     "output_type": "stream",
     "text": [
      "Рівняння регресії:\n",
      "Petrol_Consumption = 377.29 + -34.79 * Petrol_tax + -0.07 * Average_income + -0.00 * Paved_Highways + 1336.45 * Population_Driver_licence(%)\n",
      "Mean Squared Error (MSE): 3938.5410046485063\n",
      "Coefficient of Determination (R^2): 0.6786867115698207\n"
     ]
    }
   ],
   "source": [
    "regression_model = LinearRegression()\n",
    "regression_model.fit(X, y)\n",
    "\n",
    "y_pred = regression_model.predict(X)\n",
    "mse = mean_squared_error(y, y_pred)\n",
    "r2 = r2_score(y, y_pred)\n",
    "\n",
    "coefficients = regression_model.coef_\n",
    "intercept = regression_model.intercept_\n",
    "\n",
    "equation = \"Petrol_Consumption = {:.2f} + \".format(intercept)\n",
    "for i, coef in enumerate(coefficients):\n",
    "    equation += \"{:.2f} * {} + \".format(coef, X.columns[i])\n",
    "equation = equation.rstrip(\" + \")\n",
    "\n",
    "print(\"Рівняння регресії:\")\n",
    "print(equation)\n",
    "\n",
    "print(\"Mean Squared Error (MSE):\", mse)\n",
    "print(\"Coefficient of Determination (R^2):\", r2)"
   ]
  },
  {
   "cell_type": "code",
   "execution_count": 30,
   "id": "d8fff745",
   "metadata": {},
   "outputs": [],
   "source": [
    "# R^2 становить 0.679, що означає, що модель пояснює близько 67.9% варіації споживання бензину. Модель може бути подальше вдосконалена для кращої прогнозної точності.\n",
    "# MSE дорівнює 3938.54, що можна вважати високим, що свідчить про велику середньоквадратичну помилку прогнозів моделі. \n",
    "# Модель потребує доопрацювання"
   ]
  }
 ],
 "metadata": {
  "kernelspec": {
   "display_name": "Python 3 (ipykernel)",
   "language": "python",
   "name": "python3"
  },
  "language_info": {
   "codemirror_mode": {
    "name": "ipython",
    "version": 3
   },
   "file_extension": ".py",
   "mimetype": "text/x-python",
   "name": "python",
   "nbconvert_exporter": "python",
   "pygments_lexer": "ipython3",
   "version": "3.9.13"
  }
 },
 "nbformat": 4,
 "nbformat_minor": 5
}
